{
 "cells": [
  {
   "cell_type": "markdown",
   "metadata": {},
   "source": [
    "# Example showing using pyHMT2D in a Jupyter Notebook\n",
    "\n",
    "This Jupyter Notebook does the same thing as the python script \"test_RAS_2D_data.py\"."
   ]
  },
  {
   "cell_type": "code",
   "execution_count": 2,
   "metadata": {
    "pycharm": {
     "name": "#%%\n"
    }
   },
   "outputs": [
    {
     "name": "stdout",
     "output_type": "stream",
     "text": [
      "Building HEC-RAS 2D area boundaries ...\n",
      "Building 2D elevation interpolator ...\n",
      "Building 2D area's face hydraulic information ...\n",
      "Building 2D area's cell face list ...\n",
      "Interpolating Manning's n from face to cell center ...\n",
      "Building face's facepoints list ...\n",
      "Building 2D area's face profile ...\n",
      "Building meshio objects ...\n",
      "Loading 2D area solutions ...\n",
      "Saving RAS2D results to VTK ...\n",
      "timeI =  2\n",
      "Add velocity to pointDataDict.\n",
      "All done!\n"
     ]
    },
    {
     "name": "stderr",
     "output_type": "stream",
     "text": [
      "WARNING:root:VTK ASCII files are only meant for debugging.\n",
      "WARNING:root:VTK ASCII files are only meant for debugging.\n"
     ]
    }
   ],
   "source": [
    "import numpy as np\n",
    "\n",
    "import pyHMT2D\n",
    "\n",
    "# testing\n",
    "def main():\n",
    "    my_ras_2d_data = pyHMT2D.RAS_2D.RAS_2D_Data(\"Muncie2DOnly_SI.p01.hdf\", \"subterrain_exported.tif\")\n",
    "\n",
    "    # print(my_ras2d.TwoDAreaFace_FacePoints[0])\n",
    "\n",
    "    my_ras_2d_data.saveHEC_RAS2D_results_to_VTK(timeStep=2)\n",
    "\n",
    "    # my_ras_2d_data.exportSRHGEOMFile(\"Muncie2D\")\n",
    "\n",
    "    # my_ras_2d_data.exportSRHMATFile(\"Muncie2D\")\n",
    "\n",
    "    # my_ras_2d_data.exportBoundariesToVTK(\"Muncie2D_boundaries\")\n",
    "\n",
    "    #my_ras_2d_data.exportFaceProfilesToVTK(\"Muncie2D_faceprofiles\")\n",
    "\n",
    "    # dump all data to screen (debug)\n",
    "    # my_ras_2d_data.dump_all_data()\n",
    "\n",
    "    print(\"All done!\")\n",
    "\n",
    "\n",
    "if __name__ == \"__main__\":\n",
    "    main()"
   ]
  }
 ],
 "metadata": {
  "kernelspec": {
   "display_name": "Python 3",
   "language": "python",
   "name": "python3"
  },
  "language_info": {
   "codemirror_mode": {
    "name": "ipython",
    "version": 3
   },
   "file_extension": ".py",
   "mimetype": "text/x-python",
   "name": "python",
   "nbconvert_exporter": "python",
   "pygments_lexer": "ipython3",
   "version": "3.7.3"
  }
 },
 "nbformat": 4,
 "nbformat_minor": 1
}